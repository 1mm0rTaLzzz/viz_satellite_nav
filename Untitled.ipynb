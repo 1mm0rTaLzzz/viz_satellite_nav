{
 "cells": [
  {
   "cell_type": "code",
   "execution_count": 15,
   "id": "ac0078ea-2e5a-4907-ab83-b07befdab563",
   "metadata": {},
   "outputs": [
    {
     "name": "stdout",
     "output_type": "stream",
     "text": [
      "Collecting keyboard\n",
      "  Downloading keyboard-0.13.5-py3-none-any.whl.metadata (4.0 kB)\n",
      "Downloading keyboard-0.13.5-py3-none-any.whl (58 kB)\n",
      "   ---------------------------------------- 0.0/58.1 kB ? eta -:--:--\n",
      "   ---------------------------------------- 0.0/58.1 kB ? eta -:--:--\n",
      "   ------- -------------------------------- 10.2/58.1 kB ? eta -:--:--\n",
      "   -------------- ------------------------- 20.5/58.1 kB 165.2 kB/s eta 0:00:01\n",
      "   ----------------------------------- ---- 51.2/58.1 kB 327.7 kB/s eta 0:00:01\n",
      "   ---------------------------------------- 58.1/58.1 kB 306.8 kB/s eta 0:00:00\n",
      "Installing collected packages: keyboard\n",
      "Successfully installed keyboard-0.13.5\n"
     ]
    }
   ],
   "source": [
    "!pip3 install keyboard\n"
   ]
  },
  {
   "cell_type": "code",
   "execution_count": 16,
   "id": "01125be2-e243-46ae-9736-21cdb3a4f3a8",
   "metadata": {},
   "outputs": [],
   "source": [
    "import pygame\n",
    "import pygame_widgets\n",
    "from pygame_widgets.textbox import TextBox\n",
    "import numpy as np\n",
    "import keyboard"
   ]
  },
  {
   "cell_type": "code",
   "execution_count": 19,
   "id": "fb7654ef-5c53-44aa-b60a-f90a496cf60a",
   "metadata": {},
   "outputs": [],
   "source": [
    "BLACK = (0, 0, 0)\n",
    "WHITE = (255, 255, 255)\n",
    "RED = (255, 0, 0)\n",
    "GREEN = (0, 255, 0)\n",
    "BLUE = (0, 0, 255)\n",
    "YELLOW = (255, 255, 0)\n",
    "GRAY = (130, 130, 130)\n",
    "DARK_GREY = (100, 100, 100)\n",
    "\n",
    "boxes = {0: 'box0',\n",
    "         1: 'box1',\n",
    "         2: 'box2',\n",
    "         3: 'box3',\n",
    "         4: 'box4',\n",
    "         5: 'box5',\n",
    "         6: 'box6',\n",
    "         7: 'box7',\n",
    "         8: 'box8',\n",
    "         9: 'box9'}\n",
    "\n",
    "\n",
    "def output():\n",
    "    pass\n",
    "\n",
    "def coordinates_lighthouse():\n",
    "    pass\n",
    "\n",
    "def number_lighthouses(): # чтобы я (функция) заработала, нужно нажать Enter ;)\n",
    "    global boxes, events\n",
    "    num_lighthouse = textbox2.getText()\n",
    "\n",
    "    events = pygame.event.get()\n",
    "    pygame_widgets.update(events)\n",
    "    \n",
    "    if num_lighthouse.isdigit():\n",
    "        num_lighthouse = int(num_lighthouse)\n",
    "        \n",
    "        window = pygame.Rect((620, 100, 300, 360))\n",
    "        pygame.draw.rect(screen, WHITE, window)\n",
    "        height = 70\n",
    "        \n",
    "        for i in range(num_lighthouse):\n",
    "            img = font.render(f'Координаты маяка {i}: ', True, BLACK)\n",
    "            height += 40\n",
    "            screen.blit(img, (620, height))\n",
    "    \n",
    "            boxes[i] = TextBox(screen, 790, height-5, 100, 30, fontSize=20,\n",
    "                       borderColour=(0, 0, 0), textColour=(0, 0, 0),\n",
    "                       onSubmit=coordinates_lighthouse, radius=1, borderThickness=1)\n",
    "            \n",
    "        for i in range(num_lighthouse, 10):\n",
    "            boxes[i] = TextBox(screen, 790, 1000, 100, 30, fontSize=20,\n",
    "                       borderColour=(0, 0, 0), textColour=(0, 0, 0),\n",
    "                       onSubmit=coordinates_lighthouse, radius=1, borderThickness=1)\n",
    "\n",
    "        events = pygame.event.get()\n",
    "        pygame_widgets.update(events)\n",
    "        keyboard.send(\"enter\")\n",
    "\n",
    "\n",
    "pygame.init()\n",
    "win_size = (1000, 600) # получается 2 метра на 1,5 (400, 300)\n",
    "screen = pygame.display.set_mode(win_size)\n",
    "pygame.display.set_caption(\"Моделирующее ПО местонахождения приёмника\")\n",
    "\n",
    "screen.fill(GRAY)\n",
    "\n",
    "window = pygame.Rect((0, 0, 600, 600))\n",
    "pygame.draw.rect(screen, WHITE, window)\n",
    "\n",
    "# ---------------------------------------------------------------\n",
    "# Панелька\n",
    "font = pygame.font.SysFont(None, 20)\n",
    "button = pygame.Rect((750, 530, 100, 50))\n",
    "pygame.draw.rect(screen, WHITE, button)\n",
    "img = font.render('Запуск', True, BLACK)\n",
    "screen.blit(img, (778, 540))\n",
    "img = font.render('программы', True, BLACK)\n",
    "screen.blit(img, (765, 560))\n",
    "\n",
    "img = font.render('Координаты приёмника: ', True, BLACK)\n",
    "screen.blit(img, (620, 20))\n",
    "textbox1 = TextBox(screen, 790, 15, 100, 30, fontSize=20,\n",
    "                  borderColour=(0, 0, 0), textColour=(0, 0, 0),\n",
    "                  onSubmit=output, radius=1, borderThickness=1)\n",
    "\n",
    "img = font.render('Колличество маяков: ', True, BLACK)\n",
    "screen.blit(img, (620, 55))\n",
    "textbox2 = TextBox(screen, 790, 50, 20, 30, fontSize=20,\n",
    "                  borderColour=(0, 0, 0), textColour=(0, 0, 0),\n",
    "                  onSubmit=number_lighthouses, radius=1, borderThickness=1, \n",
    "                  onTextChanged=number_lighthouses)\n",
    "\n",
    "pygame.display.flip()\n",
    "# ---------------------------------------------------------------\n",
    "offset_x, offset_y = 0, 0\n",
    "running = True\n",
    "\n",
    "while running:\n",
    "    events = pygame.event.get()\n",
    "    for event in events:\n",
    "        if event.type == pygame.QUIT:\n",
    "            running = False\n",
    "\n",
    "        if event.type == pygame.MOUSEBUTTONDOWN:\n",
    "            pos = pygame.mouse.get_pos()\n",
    "            if event.button == 1:\n",
    "                if 750 < pos[0] < 850 and 530 < pos[1] < 580:\n",
    "                    print('Запуск ПО')\n",
    "\n",
    "    pygame_widgets.update(events)\n",
    "    pygame.display.update()\n",
    "\n",
    "pygame.quit()"
   ]
  },
  {
   "cell_type": "code",
   "execution_count": 8,
   "id": "b63c337c-7eb5-47db-b362-f3604b8de8e8",
   "metadata": {},
   "outputs": [
    {
     "data": {
      "text/plain": [
       "{0: TextBox(x = 790, y = 105, width = 100, height = 30),\n",
       " 1: TextBox(x = 790, y = 1000, width = 100, height = 30),\n",
       " 2: TextBox(x = 790, y = 1000, width = 100, height = 30),\n",
       " 3: TextBox(x = 790, y = 1000, width = 100, height = 30),\n",
       " 4: TextBox(x = 790, y = 1000, width = 100, height = 30),\n",
       " 5: TextBox(x = 790, y = 1000, width = 100, height = 30),\n",
       " 6: TextBox(x = 790, y = 1000, width = 100, height = 30),\n",
       " 7: TextBox(x = 790, y = 1000, width = 100, height = 30),\n",
       " 8: TextBox(x = 790, y = 1000, width = 100, height = 30),\n",
       " 9: TextBox(x = 790, y = 1000, width = 100, height = 30)}"
      ]
     },
     "execution_count": 8,
     "metadata": {},
     "output_type": "execute_result"
    }
   ],
   "source": [
    "boxes"
   ]
  },
  {
   "cell_type": "code",
   "execution_count": 17,
   "id": "392f4244-3a9d-42ec-b96b-4394ea881783",
   "metadata": {},
   "outputs": [],
   "source": [
    "keyboard.send(\"enter\")"
   ]
  },
  {
   "cell_type": "code",
   "execution_count": null,
   "id": "dad77ea7-4cc8-4de9-b299-8de06aceb47f",
   "metadata": {},
   "outputs": [],
   "source": []
  }
 ],
 "metadata": {
  "kernelspec": {
   "display_name": "Python 3 (ipykernel)",
   "language": "python",
   "name": "python3"
  },
  "language_info": {
   "codemirror_mode": {
    "name": "ipython",
    "version": 3
   },
   "file_extension": ".py",
   "mimetype": "text/x-python",
   "name": "python",
   "nbconvert_exporter": "python",
   "pygments_lexer": "ipython3",
   "version": "3.11.7"
  }
 },
 "nbformat": 4,
 "nbformat_minor": 5
}
