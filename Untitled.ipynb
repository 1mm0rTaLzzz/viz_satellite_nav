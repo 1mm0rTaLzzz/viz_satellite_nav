{
 "cells": [
  {
   "cell_type": "code",
   "execution_count": 15,
   "id": "ac0078ea-2e5a-4907-ab83-b07befdab563",
   "metadata": {},
   "outputs": [
    {
     "name": "stdout",
     "output_type": "stream",
     "text": [
      "Collecting keyboard\n",
      "  Downloading keyboard-0.13.5-py3-none-any.whl.metadata (4.0 kB)\n",
      "Downloading keyboard-0.13.5-py3-none-any.whl (58 kB)\n",
      "   ---------------------------------------- 0.0/58.1 kB ? eta -:--:--\n",
      "   ---------------------------------------- 0.0/58.1 kB ? eta -:--:--\n",
      "   ------- -------------------------------- 10.2/58.1 kB ? eta -:--:--\n",
      "   -------------- ------------------------- 20.5/58.1 kB 165.2 kB/s eta 0:00:01\n",
      "   ----------------------------------- ---- 51.2/58.1 kB 327.7 kB/s eta 0:00:01\n",
      "   ---------------------------------------- 58.1/58.1 kB 306.8 kB/s eta 0:00:00\n",
      "Installing collected packages: keyboard\n",
      "Successfully installed keyboard-0.13.5\n"
     ]
    }
   ],
   "source": [
    "!pip3 install keyboard\n"
   ]
  },
  {
   "cell_type": "code",
   "execution_count": 1,
   "id": "01125be2-e243-46ae-9736-21cdb3a4f3a8",
   "metadata": {},
   "outputs": [
    {
     "name": "stdout",
     "output_type": "stream",
     "text": [
      "pygame 2.5.2 (SDL 2.28.3, Python 3.11.7)\n",
      "Hello from the pygame community. https://www.pygame.org/contribute.html\n"
     ]
    }
   ],
   "source": [
    "import pygame\n",
    "import pygame_widgets\n",
    "from pygame_widgets.textbox import TextBox\n",
    "import numpy as np\n",
    "import keyboard"
   ]
  },
  {
   "cell_type": "code",
   "execution_count": null,
   "id": "0c202822-144e-45ab-b8ad-e5b8a5dd44ea",
   "metadata": {},
   "outputs": [
    {
     "name": "stdout",
     "output_type": "stream",
     "text": [
      "Запуск ПО\n",
      "coord_m  [[1 4]\n",
      " [4 6]]\n",
      "noise  [1, 4, 6]\n",
      "coord_reciever  [[1 3 5]]\n"
     ]
    }
   ],
   "source": [
    "BLACK = (0, 0, 0)\n",
    "WHITE = (255, 255, 255)\n",
    "RED = (255, 0, 0)\n",
    "GREEN = (0, 255, 0)\n",
    "BLUE = (0, 0, 255)\n",
    "YELLOW = (255, 255, 0)\n",
    "GRAY = (130, 130, 130)\n",
    "DARK_GREY = (100, 100, 100)\n",
    "\n",
    "\n",
    "def output():\n",
    "    pass\n",
    "    coord_lighthouse\n",
    "\n",
    "def parse_string_to_arr_lighthouse(input_string):\n",
    "    arr = []\n",
    "    pairs = input_string.strip('()').split(',')\n",
    "    pairs = [tuple(map(int, pair.strip('()').split(','))) for pair in pairs]\n",
    "    arr = np.array(pairs).reshape(-1, 2)\n",
    "    return arr\n",
    "\n",
    "def parse_string_to_arr_noise(input_string):\n",
    "    arr = []\n",
    "    pairs = input_string.split(',')\n",
    "    pairs = [arr.append(int(pair)) for pair in pairs]\n",
    "    return arr\n",
    "\n",
    "def parse_string_to_arr_reciever(input_string):\n",
    "    arr = []\n",
    "    pairs = input_string.strip('()').split(',')\n",
    "    pairs = [tuple(map(int, pair.strip('()').split(','))) for pair in pairs]\n",
    "    arr = np.array(pairs).reshape(-1, 3)\n",
    "    return arr\n",
    "    \n",
    "\n",
    "def coordinates_m():\n",
    "    text = textbox1.getText()\n",
    "\n",
    "    if text != '':\n",
    "        coord_m = parse_string_to_arr(text)\n",
    "        print(coord_m)\n",
    "\n",
    "def save_data():\n",
    "    coord_m = textbox1.getText()\n",
    "    noise = textbox2.getText()\n",
    "    coord_reciever = textbox3.getText()\n",
    "\n",
    "    if coord_m != '':\n",
    "        coord_m = parse_string_to_arr_lighthouse(coord_m)\n",
    "    if noise != '':\n",
    "        noise = parse_string_to_arr_noise(noise)\n",
    "    if coord_reciever != '':\n",
    "        coord_reciever = parse_string_to_arr_reciever(coord_reciever)\n",
    "\n",
    "    print('coord_m ', coord_m)\n",
    "    print('noise ', noise)\n",
    "    print('coord_reciever ', coord_reciever)\n",
    "    \n",
    "\n",
    "pygame.init()\n",
    "win_size = (1000, 600) # получается 2 метра на 1,5 (400, 300)\n",
    "screen = pygame.display.set_mode(win_size)\n",
    "pygame.display.set_caption(\"Моделирующее ПО местонахождения приёмника\")\n",
    "\n",
    "screen.fill(GRAY)\n",
    "\n",
    "window = pygame.Rect((0, 100, 500, 500))\n",
    "pygame.draw.rect(screen, WHITE, window)\n",
    "\n",
    "# ---------------------------------------------------------------\n",
    "# Панелька\n",
    "font = pygame.font.SysFont(None, 20)\n",
    "button = pygame.Rect((750, 530, 100, 50))\n",
    "pygame.draw.rect(screen, WHITE, button)\n",
    "img = font.render('Запуск', True, BLACK)\n",
    "screen.blit(img, (778, 540))\n",
    "img = font.render('программы', True, BLACK)\n",
    "screen.blit(img, (765, 560))\n",
    "\n",
    "img = font.render('Координаты маяков: ', True, BLACK)\n",
    "screen.blit(img, (10, 20))\n",
    "textbox1 = TextBox(screen, 170, 15, 800, 20, fontSize=14,\n",
    "                  borderColour=(0, 0, 0), textColour=(0, 0, 0),\n",
    "                  onSubmit=coordinates_m, radius=1, borderThickness=1) # onTextChanged=coordinates_m\n",
    "\n",
    "img = font.render('Шумы маяков: ', True, BLACK)\n",
    "screen.blit(img, (10, 55))\n",
    "textbox2 = TextBox(screen, 170, 50, 800, 20, fontSize=14,\n",
    "                  borderColour=(0, 0, 0), textColour=(0, 0, 0),\n",
    "                  onSubmit=output, radius=1, borderThickness=1)\n",
    "\n",
    "img = font.render('Координаты приёмника: ', True, BLACK)\n",
    "screen.blit(img, (520, 100))\n",
    "textbox3 = TextBox(screen, 700, 95, 270, 20, fontSize=14,\n",
    "                  borderColour=(0, 0, 0), textColour=(0, 0, 0),\n",
    "                  onSubmit=output, radius=1, borderThickness=1)\n",
    "\n",
    "pygame.display.flip()\n",
    "# ---------------------------------------------------------------\n",
    "offset_x, offset_y = 0, 0\n",
    "running = True\n",
    "\n",
    "while running:\n",
    "    events = pygame.event.get()\n",
    "    for event in events:\n",
    "        if event.type == pygame.QUIT:\n",
    "            running = False\n",
    "\n",
    "        if event.type == pygame.MOUSEBUTTONDOWN:\n",
    "            pos = pygame.mouse.get_pos()\n",
    "            if event.button == 1:\n",
    "                if 750 < pos[0] < 850 and 530 < pos[1] < 580:\n",
    "                    print('Запуск ПО')\n",
    "                    save_data()\n",
    "\n",
    "    # try:\n",
    "    pygame_widgets.update(events)\n",
    "    pygame.display.update()\n",
    "    # except:\n",
    "        # print('ошибка')\n",
    "\n",
    "pygame.quit()"
   ]
  },
  {
   "cell_type": "code",
   "execution_count": 14,
   "id": "c33abbff-45a9-4a3d-9173-7e53f46e6a64",
   "metadata": {},
   "outputs": [
    {
     "data": {
      "text/plain": [
       "'(1,2),(2,4)'"
      ]
     },
     "execution_count": 14,
     "metadata": {},
     "output_type": "execute_result"
    }
   ],
   "source": [
    "text"
   ]
  },
  {
   "cell_type": "code",
   "execution_count": null,
   "id": "47f1cfd6-dccd-444c-8c50-3f17ceba6d19",
   "metadata": {},
   "outputs": [],
   "source": []
  },
  {
   "cell_type": "code",
   "execution_count": null,
   "id": "140b629a-b7b2-435d-97d4-bcf9eafd0879",
   "metadata": {},
   "outputs": [],
   "source": []
  },
  {
   "cell_type": "code",
   "execution_count": null,
   "id": "1ea3d4bb-1c1b-41fc-a1b8-37936417f6b7",
   "metadata": {},
   "outputs": [],
   "source": []
  }
 ],
 "metadata": {
  "kernelspec": {
   "display_name": "Python 3 (ipykernel)",
   "language": "python",
   "name": "python3"
  },
  "language_info": {
   "codemirror_mode": {
    "name": "ipython",
    "version": 3
   },
   "file_extension": ".py",
   "mimetype": "text/x-python",
   "name": "python",
   "nbconvert_exporter": "python",
   "pygments_lexer": "ipython3",
   "version": "3.11.7"
  }
 },
 "nbformat": 4,
 "nbformat_minor": 5
}
